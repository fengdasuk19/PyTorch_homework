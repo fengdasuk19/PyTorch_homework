{
 "cells": [
  {
   "cell_type": "markdown",
   "metadata": {},
   "source": [
    "# 基于词向量的英汉翻译——“火炬上的深度学习\"下第一次作业\n",
    "\n",
    "在这个作业中，你需要半独立地完成一个英文到中文的单词翻译器\n",
    "\n",
    "本文件是集智AI学园http://campus.swarma.org 出品的“火炬上的深度学习”第VI课的配套源代码"
   ]
  },
  {
   "cell_type": "code",
   "execution_count": 9,
   "metadata": {
    "collapsed": true
   },
   "outputs": [],
   "source": [
    "# 加载必要的程序包\n",
    "# PyTorch的程序包\n",
    "import torch\n",
    "from torch.autograd import Variable as Var\n",
    "import torch.nn as nn\n",
    "import torch.nn.functional as F\n",
    "import torch.optim as optim\n",
    "\n",
    "# 数值运算和绘图的程序包\n",
    "import numpy as np\n",
    "import matplotlib.pyplot as plt\n",
    "import matplotlib\n",
    "\n",
    "\n",
    "# 加载机器学习的软件包，主要为了词向量的二维可视化\n",
    "from sklearn.decomposition import PCA\n",
    "\n",
    "#加载Word2Vec的软件包\n",
    "import gensim as gensim\n",
    "from gensim.models import Word2Vec\n",
    "from gensim.models.keyedvectors import KeyedVectors\n",
    "from gensim.models.word2vec import LineSentence\n",
    "\n",
    "#加载正则表达式处理的包\n",
    "import re\n",
    "\n",
    "#在Notebook界面能够直接显示图形\n",
    "%matplotlib inline"
   ]
  },
  {
   "cell_type": "markdown",
   "metadata": {},
   "source": [
    "## 第一步：加载词向量\n",
    "\n",
    "首先，让我们加载别人已经在大型语料库上训练好的词向量"
   ]
  },
  {
   "cell_type": "code",
   "execution_count": 2,
   "metadata": {},
   "outputs": [
    {
     "data": {
      "text/plain": [
       "1366130"
      ]
     },
     "execution_count": 2,
     "metadata": {},
     "output_type": "execute_result"
    }
   ],
   "source": [
    "# 加载中文词向量，下载地址为：链接：http://pan.baidu.com/s/1gePQAun 密码：kvtg\n",
    "# 该中文词向量库是由尹相志提供，训练语料来源为：微博、人民日报、上海热线、汽车之家等，包含1366130个词向量\n",
    "word_vectors = KeyedVectors.load_word2vec_format('vectors.bin', binary=True, unicode_errors='ignore')\n",
    "len(word_vectors.vocab)"
   ]
  },
  {
   "cell_type": "code",
   "execution_count": 3,
   "metadata": {},
   "outputs": [
    {
     "name": "stdout",
     "output_type": "stream",
     "text": [
      "400000\n"
     ]
    }
   ],
   "source": [
    "# 加载英文的词向量，下载地址为：http://nlp.stanford.edu/data/glove.6B.zip，解压后将glove.6B.100d.txt文件拷贝到与本notebook\n",
    "# 文件一致的文件夹洗面。\n",
    "f = open('glove.6B.100d.txt', 'r')\n",
    "i = 1\n",
    "\n",
    "# 将英文的词向量都存入如下的字典中\n",
    "word_vectors_en = {}\n",
    "with open('glove.6B.100d.txt') as f:\n",
    "    for line in f:\n",
    "        numbers = line.split()\n",
    "        word = numbers[0]\n",
    "        vectors = np.array([float(i) for i in numbers[1 : ]])\n",
    "        word_vectors_en[word] = vectors\n",
    "        i += 1\n",
    "print(len(word_vectors_en))"
   ]
  },
  {
   "cell_type": "markdown",
   "metadata": {},
   "source": [
    "## 第二步：可视化同一组意思词在两种不同语言的词向量中的相互位置关系"
   ]
  },
  {
   "cell_type": "code",
   "execution_count": 4,
   "metadata": {
    "collapsed": true
   },
   "outputs": [],
   "source": [
    "# 中文的一二三四五列表\n",
    "cn_list = {'一', '二', '三', '四', '五', '六', '七', '八', '九', '零'}\n",
    "# 阿拉伯数字的12345列表\n",
    "en_list = {'1', '2', '3', '4', '5', '6', '7', '8', '9', '0'}\n",
    "# 英文数字的列表\n",
    "en_list = {'one', 'two', 'three', 'four', 'five', 'six', 'seven', 'eight', 'nine', 'zero'}\n",
    "\n",
    "# 对应词向量都存入到列表中\n",
    "cn_vectors = []  #中文的词向量列表\n",
    "en_vectors = []  #英文的词向量列表\n",
    "for w in cn_list:\n",
    "    cn_vectors.append(word_vectors[w])\n",
    "for w in en_list:\n",
    "    en_vectors.append(word_vectors_en[w])\n",
    "\n",
    "# 将这些词向量统一转化为矩阵\n",
    "cn_vectors = np.array(cn_vectors)\n",
    "en_vectors = np.array(en_vectors)"
   ]
  },
  {
   "cell_type": "code",
   "execution_count": 5,
   "metadata": {},
   "outputs": [
    {
     "data": {
      "image/png": "[encoded data removed]",
      "text/plain": [
       "<matplotlib.figure.Figure at 0x1101094a8>"
      ]
     },
     "metadata": {},
     "output_type": "display_data"
    }
   ],
   "source": [
    "# 降维实现可视化\n",
    "X_reduced = PCA(n_components=2).fit_transform(cn_vectors)\n",
    "Y_reduced = PCA(n_components = 2).fit_transform(en_vectors)\n",
    "\n",
    "# 绘制所有单词向量的二维空间投影\n",
    "f, (ax1, ax2) = plt.subplots(1, 2, figsize = (10, 8))\n",
    "ax1.plot(X_reduced[:, 0], X_reduced[:, 1], 'o')\n",
    "ax2.plot(Y_reduced[:, 0], Y_reduced[:, 1], 'o')\n",
    "zhfont1 = matplotlib.font_manager.FontProperties(fname='/Library/Fonts/Songti.ttc', size=16)\n",
    "for i, w in enumerate(cn_list):\n",
    "    ax1.text(X_reduced[i, 0], X_reduced[i, 1], w, fontproperties = zhfont1, alpha = 1)\n",
    "for i, w in enumerate(en_list):\n",
    "    ax2.text(Y_reduced[i, 0], Y_reduced[i, 1], w, alpha = 1)"
   ]
  },
  {
   "cell_type": "markdown",
   "metadata": {},
   "source": [
    "### 结论：可以看出，中文的一、二、等数字彼此之间的关系与英文的数字彼此之间的关系很类似"
   ]
  },
  {
   "cell_type": "markdown",
   "metadata": {},
   "source": [
    "## 第三步：训练一个神经网络，输入一个英文单词的词向量，输出一个中文的词向量，并翻译为中文"
   ]
  },
  {
   "cell_type": "markdown",
   "metadata": {},
   "source": [
    "首先，读入一个已经建立好的词典（dictionary.txt）。本词典是老师调用百度翻译的API，自动将一篇英文小说中的词汇逐个翻译为中文而得来的\n",
    "\n",
    "我们一个个地载入词典，并查找对应的中文词向量，如果找得到，则放入original_words中，做为正式的训练集"
   ]
  },
  {
   "cell_type": "code",
   "execution_count": 6,
   "metadata": {},
   "outputs": [
    {
     "name": "stdout",
     "output_type": "stream",
     "text": [
      "4962\n"
     ]
    }
   ],
   "source": [
    "original_words = []\n",
    "with open('dictionary.txt', 'r') as f:\n",
    "    dataset = []\n",
    "    for line in f:\n",
    "        itm = line.split('\\t')\n",
    "        eng = itm[0]\n",
    "        chn = itm[1].strip()\n",
    "        if eng in word_vectors_en and chn in word_vectors:\n",
    "            data = word_vectors_en[eng]\n",
    "            target = word_vectors[chn]\n",
    "           # 将中英文词对做成数据集\n",
    "            dataset.append([data, target])\n",
    "            original_words.append([eng, chn])\n",
    "print(len(dataset)) # 共有4962个单词做为总的数据集合"
   ]
  },
  {
   "cell_type": "code",
   "execution_count": 14,
   "metadata": {
    "collapsed": true
   },
   "outputs": [],
   "source": [
    "# 建立训练集、测试集和校验集\n",
    "# 训练集用来训练神经网络，更改网络的参数；校验集用来判断网络模型是否过拟合：当校验集的损失数值超过训练集的时候，即为过拟合\n",
    "# 测试集用来检验模型的好坏\n",
    "indx = np.random.permutation(range(len(dataset)))\n",
    "dataset = [dataset[i] for i in indx]\n",
    "original_words = [original_words[i] for i in indx]\n",
    "train_size = 500\n",
    "train_data = dataset[train_size:]\n",
    "valid_data = dataset[train_size // 2 : train_size]\n",
    "test_data = dataset[: train_size // 2]\n",
    "test_words = original_words[: train_size // 2]\n"
   ]
  },
  {
   "cell_type": "code",
   "execution_count": 15,
   "metadata": {
    "scrolled": true
   },
   "outputs": [
    {
     "name": "stdout",
     "output_type": "stream",
     "text": [
      "0轮，训练Loss: 8.74, 校验Loss: 8.48\n",
      "1轮，训练Loss: 8.32, 校验Loss: 8.18\n",
      "2轮，训练Loss: 8.07, 校验Loss: 8.00\n",
      "3轮，训练Loss: 7.91, 校验Loss: 7.87\n",
      "4轮，训练Loss: 7.80, 校验Loss: 7.78\n",
      "5轮，训练Loss: 7.72, 校验Loss: 7.71\n",
      "6轮，训练Loss: 7.65, 校验Loss: 7.65\n",
      "7轮，训练Loss: 7.59, 校验Loss: 7.60\n",
      "8轮，训练Loss: 7.54, 校验Loss: 7.56\n",
      "9轮，训练Loss: 7.50, 校验Loss: 7.52\n",
      "10轮，训练Loss: 7.47, 校验Loss: 7.49\n",
      "11轮，训练Loss: 7.43, 校验Loss: 7.47\n",
      "12轮，训练Loss: 7.40, 校验Loss: 7.45\n",
      "13轮，训练Loss: 7.38, 校验Loss: 7.43\n",
      "14轮，训练Loss: 7.35, 校验Loss: 7.41\n",
      "15轮，训练Loss: 7.33, 校验Loss: 7.39\n",
      "16轮，训练Loss: 7.31, 校验Loss: 7.38\n",
      "17轮，训练Loss: 7.29, 校验Loss: 7.36\n",
      "18轮，训练Loss: 7.27, 校验Loss: 7.35\n",
      "19轮，训练Loss: 7.25, 校验Loss: 7.34\n",
      "20轮，训练Loss: 7.24, 校验Loss: 7.33\n",
      "21轮，训练Loss: 7.23, 校验Loss: 7.32\n",
      "22轮，训练Loss: 7.21, 校验Loss: 7.31\n",
      "23轮，训练Loss: 7.20, 校验Loss: 7.30\n",
      "24轮，训练Loss: 7.19, 校验Loss: 7.29\n",
      "25轮，训练Loss: 7.18, 校验Loss: 7.29\n",
      "26轮，训练Loss: 7.17, 校验Loss: 7.28\n",
      "27轮，训练Loss: 7.16, 校验Loss: 7.27\n",
      "28轮，训练Loss: 7.15, 校验Loss: 7.27\n",
      "29轮，训练Loss: 7.14, 校验Loss: 7.26\n",
      "30轮，训练Loss: 7.13, 校验Loss: 7.26\n",
      "31轮，训练Loss: 7.13, 校验Loss: 7.25\n",
      "32轮，训练Loss: 7.12, 校验Loss: 7.25\n",
      "33轮，训练Loss: 7.11, 校验Loss: 7.24\n",
      "34轮，训练Loss: 7.11, 校验Loss: 7.24\n",
      "35轮，训练Loss: 7.10, 校验Loss: 7.24\n",
      "36轮，训练Loss: 7.10, 校验Loss: 7.23\n",
      "37轮，训练Loss: 7.09, 校验Loss: 7.23\n",
      "38轮，训练Loss: 7.09, 校验Loss: 7.23\n",
      "39轮，训练Loss: 7.08, 校验Loss: 7.22\n",
      "40轮，训练Loss: 7.08, 校验Loss: 7.22\n",
      "41轮，训练Loss: 7.07, 校验Loss: 7.22\n",
      "42轮，训练Loss: 7.07, 校验Loss: 7.22\n",
      "43轮，训练Loss: 7.07, 校验Loss: 7.22\n",
      "44轮，训练Loss: 7.06, 校验Loss: 7.21\n",
      "45轮，训练Loss: 7.06, 校验Loss: 7.21\n",
      "46轮，训练Loss: 7.06, 校验Loss: 7.21\n",
      "47轮，训练Loss: 7.05, 校验Loss: 7.21\n",
      "48轮，训练Loss: 7.05, 校验Loss: 7.21\n",
      "49轮，训练Loss: 7.05, 校验Loss: 7.21\n",
      "50轮，训练Loss: 7.05, 校验Loss: 7.20\n",
      "51轮，训练Loss: 7.04, 校验Loss: 7.20\n",
      "52轮，训练Loss: 7.04, 校验Loss: 7.20\n",
      "53轮，训练Loss: 7.04, 校验Loss: 7.20\n",
      "54轮，训练Loss: 7.04, 校验Loss: 7.20\n",
      "55轮，训练Loss: 7.03, 校验Loss: 7.20\n",
      "56轮，训练Loss: 7.03, 校验Loss: 7.20\n",
      "57轮，训练Loss: 7.03, 校验Loss: 7.20\n",
      "58轮，训练Loss: 7.03, 校验Loss: 7.20\n",
      "59轮，训练Loss: 7.03, 校验Loss: 7.19\n",
      "60轮，训练Loss: 7.03, 校验Loss: 7.19\n",
      "61轮，训练Loss: 7.02, 校验Loss: 7.19\n",
      "62轮，训练Loss: 7.02, 校验Loss: 7.19\n",
      "63轮，训练Loss: 7.02, 校验Loss: 7.19\n",
      "64轮，训练Loss: 7.02, 校验Loss: 7.19\n",
      "65轮，训练Loss: 7.02, 校验Loss: 7.19\n",
      "66轮，训练Loss: 7.02, 校验Loss: 7.19\n",
      "67轮，训练Loss: 7.01, 校验Loss: 7.19\n",
      "68轮，训练Loss: 7.01, 校验Loss: 7.19\n",
      "69轮，训练Loss: 7.01, 校验Loss: 7.19\n",
      "70轮，训练Loss: 7.01, 校验Loss: 7.19\n",
      "71轮，训练Loss: 7.01, 校验Loss: 7.19\n",
      "72轮，训练Loss: 7.01, 校验Loss: 7.19\n",
      "73轮，训练Loss: 7.01, 校验Loss: 7.19\n",
      "74轮，训练Loss: 7.01, 校验Loss: 7.19\n",
      "75轮，训练Loss: 7.00, 校验Loss: 7.19\n",
      "76轮，训练Loss: 7.00, 校验Loss: 7.19\n",
      "77轮，训练Loss: 7.00, 校验Loss: 7.19\n",
      "78轮，训练Loss: 7.00, 校验Loss: 7.19\n",
      "79轮，训练Loss: 7.00, 校验Loss: 7.19\n",
      "80轮，训练Loss: 7.00, 校验Loss: 7.19\n",
      "81轮，训练Loss: 7.00, 校验Loss: 7.18\n",
      "82轮，训练Loss: 7.00, 校验Loss: 7.18\n",
      "83轮，训练Loss: 7.00, 校验Loss: 7.18\n",
      "84轮，训练Loss: 7.00, 校验Loss: 7.18\n",
      "85轮，训练Loss: 7.00, 校验Loss: 7.18\n",
      "86轮，训练Loss: 6.99, 校验Loss: 7.18\n",
      "87轮，训练Loss: 6.99, 校验Loss: 7.18\n",
      "88轮，训练Loss: 6.99, 校验Loss: 7.18\n",
      "89轮，训练Loss: 6.99, 校验Loss: 7.18\n",
      "90轮，训练Loss: 6.99, 校验Loss: 7.18\n",
      "91轮，训练Loss: 6.99, 校验Loss: 7.18\n",
      "92轮，训练Loss: 6.99, 校验Loss: 7.18\n",
      "93轮，训练Loss: 6.99, 校验Loss: 7.18\n",
      "94轮，训练Loss: 6.99, 校验Loss: 7.18\n",
      "95轮，训练Loss: 6.99, 校验Loss: 7.18\n",
      "96轮，训练Loss: 6.99, 校验Loss: 7.18\n",
      "97轮，训练Loss: 6.99, 校验Loss: 7.18\n",
      "98轮，训练Loss: 6.99, 校验Loss: 7.18\n",
      "99轮，训练Loss: 6.99, 校验Loss: 7.18\n"
     ]
    }
   ],
   "source": [
    "# 开始训练一个多层神经网络，将一个100维度的英文向量映射为200维度的中文词向量，隐含层节点为30\n",
    "\n",
    "input_size = 100\n",
    "output_size = 200\n",
    "hidden_size = 30\n",
    "\n",
    "# 新建一个神经网络，包含一个隐含层\n",
    "model = nn.Sequential(nn.Linear(input_size, hidden_size),\n",
    "                     nn.Tanh(),\n",
    "                     nn.Linear(hidden_size, output_size)\n",
    "                     )\n",
    "\n",
    "# 构造损失函数\n",
    "criterion = torch.nn.MSELoss()\n",
    "\n",
    "# 构造优化器\n",
    "optimizer = torch.optim.Adam(model.parameters(), lr = 0.0001)\n",
    "\n",
    "# 总的循环周期\n",
    "num_epoch = 100\n",
    "\n",
    "\n",
    "#开始训练500次，每次对所有的数据都做循环\n",
    "results = []\n",
    "for epoch in range(num_epoch):\n",
    "    train_loss = []\n",
    "    for data in train_data:\n",
    "        # 读入数据\n",
    "        x = Var(torch.FloatTensor(data[0])).unsqueeze(0)\n",
    "        y = Var(torch.FloatTensor(data[1])).unsqueeze(0)\n",
    "        # 模型预测\n",
    "        output = model(x)\n",
    "        \n",
    "        # 反向传播算法训练\n",
    "        optimizer.zero_grad()\n",
    "        loss = criterion(output, y)\n",
    "        train_loss.append(loss.data.numpy()[0])\n",
    "        loss.backward()\n",
    "        optimizer.step()\n",
    "    # 在校验集上测试一下效果\n",
    "    valid_loss = []\n",
    "    for data in valid_data:\n",
    "        x = Var(torch.FloatTensor(data[0])).unsqueeze(0)\n",
    "        y = Var(torch.FloatTensor(data[1])).unsqueeze(0)\n",
    "        output = model(x)\n",
    "        loss = criterion(output, y)\n",
    "        valid_loss.append(loss.data.numpy()[0])\n",
    "    results.append([np.mean(train_loss), np.mean(valid_loss)])\n",
    "    print('{}轮，训练Loss: {:.2f}, 校验Loss: {:.2f}'.format(epoch, np.mean(train_loss), np.mean(valid_loss)))\n"
   ]
  },
  {
   "cell_type": "code",
   "execution_count": 16,
   "metadata": {},
   "outputs": [
    {
     "data": {
      "text/plain": [
       "<matplotlib.legend.Legend at 0x182fa64e0>"
      ]
     },
     "execution_count": 16,
     "metadata": {},
     "output_type": "execute_result"
    },
    {
     "data": {
      "image/png": "[encoded data removed]",
      "text/plain": [
       "<matplotlib.figure.Figure at 0x1831391d0>"
      ]
     },
     "metadata": {},
     "output_type": "display_data"
    }
   ],
   "source": [
    "# 绘制图形\n",
    "a = [i[0] for i in results]\n",
    "b = [i[1] for i in results]\n",
    "plt.plot(a, 'o', label = 'Training Loss')\n",
    "plt.plot(b, 's', label = 'Validation Loss')\n",
    "plt.xlabel('Epoch')\n",
    "plt.ylabel('Loss Function')\n",
    "plt.legend()"
   ]
  },
  {
   "cell_type": "code",
   "execution_count": 17,
   "metadata": {},
   "outputs": [
    {
     "name": "stdout",
     "output_type": "stream",
     "text": [
      "精确匹配率：0.08\n",
      "一字匹配率：0.15\n",
      "[['认为', '想'], ['盘', '器'], ['主要', '相邻'], ['经验', '理解'], ['体', '躯干'], ['块状', '干净'], ['表面', '孔洞'], ['一般', '因此'], ['唐娜', '妈妈'], ['仓促', '愚蠢'], ['哎呀', '啊'], ['戳', '脖子'], ['裂缝', '脱落'], ['两', '打到'], ['毁掉', '毁掉'], ['字符', '人物'], ['镜头', '图像'], ['土地', '山岭'], ['见鬼', '我'], ['酒杯', '密封'], ['多', '实现'], ['运行', '撑杆'], ['第', '引用'], ['告诉', '说'], ['合成', '构造'], ['紧身', '图案'], ['栖息', '两边'], ['理由', '场所'], ['掠过', '扭动'], ['愤怒', '咆哮'], ['工作', '工作'], ['实例', '术语'], ['假', '贴纸'], ['冰雹', '大喊'], ['天鹅', '兔子'], ['摇曳', '摆动'], ['面', '构造'], ['傻傻地', '听'], ['草', '树皮'], ['奔跑', '转圈'], ['停止', '重新启动'], ['书', '本书'], ['毛', '粗'], ['神圣', '生命'], ['欣喜若狂', '感动'], ['厨房', '柜子'], ['消退', '麻木'], ['踢', '打'], ['花', '贝壳'], ['玩具', '玩具'], ['生长', '尤其'], ['美元', '美元'], ['吉他', '电吉他'], ['军队', '首领'], ['姐姐', '她'], ['游戏', '比赛'], ['植物', '原料'], ['听到', '听到'], ['停止', '停下来'], ['把', '用'], ['流口水', '惊恐'], ['胶', '肉'], ['左', '倒'], ['赶紧', '取下'], ['芝士', '菠萝'], ['退款', '返还'], ['盎司', '伊甸园'], ['旅行', '游玩'], ['好奇', '好奇'], ['系列', '三部曲'], ['授权', '权限'], ['近', '望见'], ['幼虫', '腐烂'], ['布线', '部件'], ['吞没', '坍塌'], ['最近', '注意到'], ['白', '麻布'], ['声明', '声明'], ['拖鞋', '衣服'], ['程序', '管理'], ['警告', '认为'], ['管理', '协助'], ['刻面', '切面'], ['搓', '脖子'], ['沿', '沿着'], ['哭', '我'], ['示意', '转过身'], ['事件', '悲剧'], ['过度', '导致'], ['开始', '等到'], ['上', '头顶'], ['阿拉伯人', '仇视'], ['人', '我'], ['探照灯', '旋转'], ['呼出', '颤抖'], ['大象', '蜥蜴'], ['七十', '五十'], ['八', '10'], ['德国人', '他'], ['推进', '发挥作用'], ['快乐', '想'], ['通知', '告知'], ['短', '背'], ['安全', '需要'], ['穿', '穿着'], ['吠', '大叫'], ['托盘', '托盘'], ['折腾', '扔'], ['卡盘', '杰克'], ['同', '相同'], ['伤口', '卡住'], ['同意', '拒绝'], ['露西', '女孩'], ['时刻', '悲伤'], ['赋', '信仰'], ['西红柿', '菠萝'], ['弓', '牛角'], ['秩', '派遣'], ['雷', '咆哮'], ['42', '10'], ['项目', '物品'], ['曲柄', '拧'], ['口袋', '肉'], ['铸造', '竹片'], ['妇女', '女性'], ['部门', '企业'], ['递给', '扯下'], ['迅速', '使得'], ['康乃馨', '巧克力'], ['加利福尼亚', '森林'], ['院子', '水沟'], ['托盘', '盒'], ['鼓励', '鼓励'], ['闪烁', '颤动'], ['计数', '十恶不赦'], ['打趣', '我'], ['也', '你'], ['复制', '拷贝'], ['开朗', '温暖'], ['情况', '可能'], ['引力', '地球磁场'], ['欢呼', '欢呼'], ['必须', '呵'], ['壳', '空心'], ['爬行动物', '昆虫'], ['解雇', '扔出'], ['雕像', '雕像'], ['饮用', '食物'], ['坑', '岩石'], ['距离', '装车'], ['奥地利', '法国'], ['提到', '解释'], ['滥用', '性暴力'], ['直', '用力'], ['发现', '发现'], ['牛仔', '装束'], ['比尔', '条款'], ['打', '甩'], ['稍', '轻微'], ['加热', '低温'], ['交谈', '不耐烦'], ['现实', '现实'], ['犹豫', '不耐烦'], ['同情', '劝慰'], ['失望', '失望'], ['不足', '不合理'], ['努力', '帮助'], ['优势', '需要'], ['心', '手掌'], ['刷', '泥土'], ['下午', '傍晚'], ['入侵', '屠杀'], ['不服气', '怀疑'], ['退', '旷野'], ['法官', '辩护'], ['电话', '质问'], ['早', '可能'], ['汇款', '结算'], ['锁定', '挪动'], ['观', '理解'], ['传奇', '传奇'], ['缕缕', '颤动'], ['医生', '医生'], ['缝', '后背'], ['解释', '理解'], ['勉强', '说服'], ['少数', '有'], ['绞', '捶'], ['机', '部件'], ['孟', '又名'], ['他们', '自己'], ['围巾', '头巾'], ['结巴', '停下来'], ['目录', '数据库'], ['回荡', '议论'], ['美元', '总计'], ['避免', '或者'], ['坐', '坐下'], ['页', '记事本'], ['维托', '家伙'], ['言不由衷', '怀疑'], ['命令', '指令'], ['禁止', '隐匿'], ['流', '云端'], ['安装', '导致'], ['你', '真的'], ['王国', '流亡者'], ['路径', '路径'], ['大笑', '害怕'], ['低垂', '胸口'], ['鲍尔', '阴云'], ['胎盘', '内脏'], ['她', '她'], ['破', '裂开'], ['王子', '玛丽'], ['还', '如果'], ['额头', '手掌'], ['吸', '圆形'], ['星', '魔法师'], ['金发', '毛毛'], ['铁', '国际'], ['豪华', '精致'], ['犯罪嫌疑人', '发现'], ['常规', '部件'], ['点燃', '灯光'], ['500', '总计'], ['吸引', '吸引'], ['注意', '反应'], ['人员', '人员'], ['唐纳', '指责'], ['酷', '清爽'], ['律师', '阿明'], ['涂抹', '粘'], ['后退', '收缩'], ['买', '打包'], ['扩展', '漫不经心'], ['挂锁', '挡板'], ['拱顶', '洞口'], ['闪烁', '波纹'], ['五十', '五十'], ['50', '那个'], ['碟', '鳞'], ['自己', '我'], ['眩晕', '恶魔'], ['简洁', '困难'], ['斯特拉', '玛丽'], ['行动', '行为'], ['星际', '岩浆'], ['爱荷华', '打'], ['旅行', '开着车']]\n"
     ]
    }
   ],
   "source": [
    "# 在测试集上验证准确度\n",
    "# 检验标准有两个：一个是直接用预测的词和标准答案做全词匹配；另一个是做单字的匹配\n",
    "exact_same = 0  #全词匹配数量\n",
    "one_same = 0 #单字匹配数量\n",
    "results = []\n",
    "for i, data in enumerate(test_data):\n",
    "    x = Var(torch.FloatTensor(data[0])).unsqueeze(0)\n",
    "    # 给出模型的输出\n",
    "    output = model(x)\n",
    "    output = output.squeeze().data.numpy()\n",
    "    # 从中文词向量中找到与输出向量最相似的向量\n",
    "    most_similar = word_vectors.wv.similar_by_vector(output, 1)\n",
    "    # 将标准答案中的词与最相似的向量所对应的词打印出来\n",
    "    results.append([original_words[i][1], most_similar[0][0]])\n",
    "    \n",
    "    # 全词匹配\n",
    "    if original_words[i][1] == most_similar[0][0]:\n",
    "        exact_same += 1\n",
    "    # 某一个字匹配\n",
    "    if list(set(list(original_words[i][1])) & set(list(most_similar[0][0]))) != []:\n",
    "        one_same += 1\n",
    "    \n",
    "print(\"精确匹配率：{:.2f}\".format(1.0 * exact_same / len(test_data)))\n",
    "print('一字匹配率：{:.2f}'.format(1.0 * one_same / len(test_data)))\n",
    "print(results)"
   ]
  },
  {
   "cell_type": "code",
   "execution_count": null,
   "metadata": {
    "collapsed": true
   },
   "outputs": [],
   "source": []
  }
 ],
 "metadata": {
  "kernelspec": {
   "display_name": "Python 3",
   "language": "python",
   "name": "python3"
  },
  "language_info": {
   "codemirror_mode": {
    "name": "ipython",
    "version": 3
   },
   "file_extension": ".py",
   "mimetype": "text/x-python",
   "name": "python",
   "nbconvert_exporter": "python",
   "pygments_lexer": "ipython3",
   "version": "3.6.2"
  }
 },
 "nbformat": 4,
 "nbformat_minor": 2
}
